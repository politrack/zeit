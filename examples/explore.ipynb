{
 "cells": [
  {
   "cell_type": "code",
   "execution_count": 1,
   "metadata": {},
   "outputs": [],
   "source": [
    "import zeit\n",
    "import pandas as pd\n",
    "import plotly.express as px"
   ]
  },
  {
   "cell_type": "code",
   "execution_count": 3,
   "metadata": {},
   "outputs": [],
   "source": [
    "api = zeit.API()\n",
    "api.set_token(\"31b69b52f7b18276b5d7cef7aeefa865cb06a3d46606f0823386\")"
   ]
  },
  {
   "source": [
    "### Some Exploration"
   ],
   "cell_type": "markdown",
   "metadata": {}
  },
  {
   "cell_type": "code",
   "execution_count": 4,
   "metadata": {},
   "outputs": [
    {
     "output_type": "display_data",
     "data": {
      "application/vnd.plotly.v1+json": {
       "config": {
        "plotlyServerURL": "https://plot.ly"
       },
       "data": [
        {
         "hovertemplate": "variable=0<br>index=%{x}<br>value=%{y}<extra></extra>",
         "legendgroup": "0",
         "line": {
          "color": "#636efa",
          "dash": "solid"
         },
         "mode": "lines",
         "name": "0",
         "orientation": "v",
         "showlegend": true,
         "type": "scatter",
         "x": [
          "1945-03-04T08:22:18.010000+00:00",
          "1946-03-04T08:22:18.010000+00:00",
          "1947-03-04T08:22:18.010000+00:00",
          "1948-03-04T08:22:18.010000+00:00",
          "1949-03-04T08:22:18.010000+00:00",
          "1950-03-04T08:22:18.010000+00:00",
          "1951-03-04T08:22:18.010000+00:00",
          "1952-03-04T08:22:18.010000+00:00",
          "1953-03-04T08:22:18.010000+00:00",
          "1954-03-04T08:22:18.010000+00:00",
          "1955-03-04T08:22:18.010000+00:00",
          "1956-03-04T08:22:18.010000+00:00",
          "1957-03-04T08:22:18.010000+00:00",
          "1958-03-04T08:22:18.010000+00:00",
          "1959-03-04T08:22:18.010000+00:00",
          "1960-03-04T08:22:18.010000+00:00",
          "1961-03-04T08:22:18.010000+00:00",
          "1962-03-04T08:22:18.010000+00:00",
          "1963-03-04T08:22:18.010000+00:00",
          "1964-03-04T08:22:18.010000+00:00",
          "1965-03-04T08:22:18.010000+00:00",
          "1966-03-04T08:22:18.010000+00:00",
          "1967-03-04T08:22:18.010000+00:00",
          "1968-03-04T08:22:18.010000+00:00",
          "1969-03-04T08:22:18.010000+00:00",
          "1970-03-04T08:22:18.010000+00:00",
          "1971-03-04T08:22:18.010000+00:00",
          "1972-03-04T08:22:18.010000+00:00",
          "1973-03-04T08:22:18.010000+00:00",
          "1974-03-04T08:22:18.010000+00:00",
          "1975-03-04T08:22:18.010000+00:00",
          "1976-03-04T08:22:18.010000+00:00",
          "1977-03-04T08:22:18.010000+00:00",
          "1978-03-04T08:22:18.010000+00:00",
          "1979-03-04T08:22:18.010000+00:00",
          "1980-03-04T08:22:18.010000+00:00",
          "1981-03-04T08:22:18.010000+00:00",
          "1982-03-04T08:22:18.010000+00:00",
          "1983-03-04T08:22:18.010000+00:00",
          "1984-03-04T08:22:18.010000+00:00",
          "1985-03-04T08:22:18.010000+00:00",
          "1986-03-04T08:22:18.010000+00:00",
          "1987-03-04T08:22:18.010000+00:00",
          "1988-03-04T08:22:18.010000+00:00",
          "1989-03-04T08:22:18.010000+00:00",
          "1990-03-04T08:22:18.010000+00:00",
          "1991-03-04T08:22:18.010000+00:00",
          "1992-03-04T08:22:18.010000+00:00",
          "1993-03-04T08:22:18.010000+00:00",
          "1994-03-04T08:22:18.010000+00:00",
          "1995-03-04T08:22:18.010000+00:00",
          "1996-03-04T08:22:18.010000+00:00",
          "1997-03-04T08:22:18.010000+00:00",
          "1998-03-04T08:22:18.010000+00:00",
          "1999-03-04T08:22:18.010000+00:00",
          "2000-03-04T08:22:18.010000+00:00",
          "2001-03-04T08:22:18.010000+00:00",
          "2002-03-04T08:22:18.010000+00:00",
          "2003-03-04T08:22:18.010000+00:00",
          "2004-03-04T08:22:18.010000+00:00",
          "2005-03-04T08:22:18.010000+00:00",
          "2006-03-04T08:22:18.010000+00:00",
          "2007-03-04T08:22:18.010000+00:00",
          "2008-03-04T08:22:18.010000+00:00",
          "2009-03-04T08:22:18.010000+00:00",
          "2010-03-04T08:22:18.010000+00:00",
          "2011-03-04T08:22:18.010000+00:00",
          "2012-03-04T08:22:18.010000+00:00",
          "2013-03-04T08:22:18.010000+00:00",
          "2014-03-04T08:22:18.010000+00:00",
          "2015-03-04T08:22:18.010000+00:00",
          "2016-03-04T08:22:18.010000+00:00",
          "2017-03-04T08:22:18.010000+00:00",
          "2018-03-04T08:22:18.010000+00:00",
          "2019-03-04T08:22:18.010000+00:00",
          "2020-03-04T08:22:18.010000+00:00"
         ],
         "xaxis": "x",
         "y": [
          55,
          1503,
          1645,
          1917,
          2443,
          2760,
          2784,
          2879,
          3016,
          3192,
          3762,
          3876,
          3756,
          3821,
          3822,
          3720,
          4383,
          4129,
          4422,
          4996,
          5275,
          5551,
          5575,
          5905,
          5820,
          5943,
          5003,
          6128,
          5992,
          5437,
          4945,
          5065,
          5482,
          5428,
          5287,
          5406,
          5362,
          5357,
          5253,
          5283,
          5703,
          5172,
          5465,
          5481,
          5725,
          5694,
          5806,
          6015,
          5988,
          5990,
          6458,
          6692,
          6455,
          5603,
          6962,
          8018,
          7349,
          5186,
          7461,
          7631,
          7528,
          3903,
          2485,
          8892,
          15829,
          15269,
          14828,
          15988,
          19522,
          19052,
          19022,
          19069,
          18059,
          6760,
          9966,
          20146
         ],
         "yaxis": "y"
        }
       ],
       "layout": {
        "legend": {
         "title": {
          "text": "variable"
         },
         "tracegroupgap": 0
        },
        "margin": {
         "t": 60
        },
        "template": {
         "data": {
          "bar": [
           {
            "error_x": {
             "color": "#2a3f5f"
            },
            "error_y": {
             "color": "#2a3f5f"
            },
            "marker": {
             "line": {
              "color": "#E5ECF6",
              "width": 0.5
             }
            },
            "type": "bar"
           }
          ],
          "barpolar": [
           {
            "marker": {
             "line": {
              "color": "#E5ECF6",
              "width": 0.5
             }
            },
            "type": "barpolar"
           }
          ],
          "carpet": [
           {
            "aaxis": {
             "endlinecolor": "#2a3f5f",
             "gridcolor": "white",
             "linecolor": "white",
             "minorgridcolor": "white",
             "startlinecolor": "#2a3f5f"
            },
            "baxis": {
             "endlinecolor": "#2a3f5f",
             "gridcolor": "white",
             "linecolor": "white",
             "minorgridcolor": "white",
             "startlinecolor": "#2a3f5f"
            },
            "type": "carpet"
           }
          ],
          "choropleth": [
           {
            "colorbar": {
             "outlinewidth": 0,
             "ticks": ""
            },
            "type": "choropleth"
           }
          ],
          "contour": [
           {
            "colorbar": {
             "outlinewidth": 0,
             "ticks": ""
            },
            "colorscale": [
             [
              0,
              "#0d0887"
             ],
             [
              0.1111111111111111,
              "#46039f"
             ],
             [
              0.2222222222222222,
              "#7201a8"
             ],
             [
              0.3333333333333333,
              "#9c179e"
             ],
             [
              0.4444444444444444,
              "#bd3786"
             ],
             [
              0.5555555555555556,
              "#d8576b"
             ],
             [
              0.6666666666666666,
              "#ed7953"
             ],
             [
              0.7777777777777778,
              "#fb9f3a"
             ],
             [
              0.8888888888888888,
              "#fdca26"
             ],
             [
              1,
              "#f0f921"
             ]
            ],
            "type": "contour"
           }
          ],
          "contourcarpet": [
           {
            "colorbar": {
             "outlinewidth": 0,
             "ticks": ""
            },
            "type": "contourcarpet"
           }
          ],
          "heatmap": [
           {
            "colorbar": {
             "outlinewidth": 0,
             "ticks": ""
            },
            "colorscale": [
             [
              0,
              "#0d0887"
             ],
             [
              0.1111111111111111,
              "#46039f"
             ],
             [
              0.2222222222222222,
              "#7201a8"
             ],
             [
              0.3333333333333333,
              "#9c179e"
             ],
             [
              0.4444444444444444,
              "#bd3786"
             ],
             [
              0.5555555555555556,
              "#d8576b"
             ],
             [
              0.6666666666666666,
              "#ed7953"
             ],
             [
              0.7777777777777778,
              "#fb9f3a"
             ],
             [
              0.8888888888888888,
              "#fdca26"
             ],
             [
              1,
              "#f0f921"
             ]
            ],
            "type": "heatmap"
           }
          ],
          "heatmapgl": [
           {
            "colorbar": {
             "outlinewidth": 0,
             "ticks": ""
            },
            "colorscale": [
             [
              0,
              "#0d0887"
             ],
             [
              0.1111111111111111,
              "#46039f"
             ],
             [
              0.2222222222222222,
              "#7201a8"
             ],
             [
              0.3333333333333333,
              "#9c179e"
             ],
             [
              0.4444444444444444,
              "#bd3786"
             ],
             [
              0.5555555555555556,
              "#d8576b"
             ],
             [
              0.6666666666666666,
              "#ed7953"
             ],
             [
              0.7777777777777778,
              "#fb9f3a"
             ],
             [
              0.8888888888888888,
              "#fdca26"
             ],
             [
              1,
              "#f0f921"
             ]
            ],
            "type": "heatmapgl"
           }
          ],
          "histogram": [
           {
            "marker": {
             "colorbar": {
              "outlinewidth": 0,
              "ticks": ""
             }
            },
            "type": "histogram"
           }
          ],
          "histogram2d": [
           {
            "colorbar": {
             "outlinewidth": 0,
             "ticks": ""
            },
            "colorscale": [
             [
              0,
              "#0d0887"
             ],
             [
              0.1111111111111111,
              "#46039f"
             ],
             [
              0.2222222222222222,
              "#7201a8"
             ],
             [
              0.3333333333333333,
              "#9c179e"
             ],
             [
              0.4444444444444444,
              "#bd3786"
             ],
             [
              0.5555555555555556,
              "#d8576b"
             ],
             [
              0.6666666666666666,
              "#ed7953"
             ],
             [
              0.7777777777777778,
              "#fb9f3a"
             ],
             [
              0.8888888888888888,
              "#fdca26"
             ],
             [
              1,
              "#f0f921"
             ]
            ],
            "type": "histogram2d"
           }
          ],
          "histogram2dcontour": [
           {
            "colorbar": {
             "outlinewidth": 0,
             "ticks": ""
            },
            "colorscale": [
             [
              0,
              "#0d0887"
             ],
             [
              0.1111111111111111,
              "#46039f"
             ],
             [
              0.2222222222222222,
              "#7201a8"
             ],
             [
              0.3333333333333333,
              "#9c179e"
             ],
             [
              0.4444444444444444,
              "#bd3786"
             ],
             [
              0.5555555555555556,
              "#d8576b"
             ],
             [
              0.6666666666666666,
              "#ed7953"
             ],
             [
              0.7777777777777778,
              "#fb9f3a"
             ],
             [
              0.8888888888888888,
              "#fdca26"
             ],
             [
              1,
              "#f0f921"
             ]
            ],
            "type": "histogram2dcontour"
           }
          ],
          "mesh3d": [
           {
            "colorbar": {
             "outlinewidth": 0,
             "ticks": ""
            },
            "type": "mesh3d"
           }
          ],
          "parcoords": [
           {
            "line": {
             "colorbar": {
              "outlinewidth": 0,
              "ticks": ""
             }
            },
            "type": "parcoords"
           }
          ],
          "pie": [
           {
            "automargin": true,
            "type": "pie"
           }
          ],
          "scatter": [
           {
            "marker": {
             "colorbar": {
              "outlinewidth": 0,
              "ticks": ""
             }
            },
            "type": "scatter"
           }
          ],
          "scatter3d": [
           {
            "line": {
             "colorbar": {
              "outlinewidth": 0,
              "ticks": ""
             }
            },
            "marker": {
             "colorbar": {
              "outlinewidth": 0,
              "ticks": ""
             }
            },
            "type": "scatter3d"
           }
          ],
          "scattercarpet": [
           {
            "marker": {
             "colorbar": {
              "outlinewidth": 0,
              "ticks": ""
             }
            },
            "type": "scattercarpet"
           }
          ],
          "scattergeo": [
           {
            "marker": {
             "colorbar": {
              "outlinewidth": 0,
              "ticks": ""
             }
            },
            "type": "scattergeo"
           }
          ],
          "scattergl": [
           {
            "marker": {
             "colorbar": {
              "outlinewidth": 0,
              "ticks": ""
             }
            },
            "type": "scattergl"
           }
          ],
          "scattermapbox": [
           {
            "marker": {
             "colorbar": {
              "outlinewidth": 0,
              "ticks": ""
             }
            },
            "type": "scattermapbox"
           }
          ],
          "scatterpolar": [
           {
            "marker": {
             "colorbar": {
              "outlinewidth": 0,
              "ticks": ""
             }
            },
            "type": "scatterpolar"
           }
          ],
          "scatterpolargl": [
           {
            "marker": {
             "colorbar": {
              "outlinewidth": 0,
              "ticks": ""
             }
            },
            "type": "scatterpolargl"
           }
          ],
          "scatterternary": [
           {
            "marker": {
             "colorbar": {
              "outlinewidth": 0,
              "ticks": ""
             }
            },
            "type": "scatterternary"
           }
          ],
          "surface": [
           {
            "colorbar": {
             "outlinewidth": 0,
             "ticks": ""
            },
            "colorscale": [
             [
              0,
              "#0d0887"
             ],
             [
              0.1111111111111111,
              "#46039f"
             ],
             [
              0.2222222222222222,
              "#7201a8"
             ],
             [
              0.3333333333333333,
              "#9c179e"
             ],
             [
              0.4444444444444444,
              "#bd3786"
             ],
             [
              0.5555555555555556,
              "#d8576b"
             ],
             [
              0.6666666666666666,
              "#ed7953"
             ],
             [
              0.7777777777777778,
              "#fb9f3a"
             ],
             [
              0.8888888888888888,
              "#fdca26"
             ],
             [
              1,
              "#f0f921"
             ]
            ],
            "type": "surface"
           }
          ],
          "table": [
           {
            "cells": {
             "fill": {
              "color": "#EBF0F8"
             },
             "line": {
              "color": "white"
             }
            },
            "header": {
             "fill": {
              "color": "#C8D4E3"
             },
             "line": {
              "color": "white"
             }
            },
            "type": "table"
           }
          ]
         },
         "layout": {
          "annotationdefaults": {
           "arrowcolor": "#2a3f5f",
           "arrowhead": 0,
           "arrowwidth": 1
          },
          "autotypenumbers": "strict",
          "coloraxis": {
           "colorbar": {
            "outlinewidth": 0,
            "ticks": ""
           }
          },
          "colorscale": {
           "diverging": [
            [
             0,
             "#8e0152"
            ],
            [
             0.1,
             "#c51b7d"
            ],
            [
             0.2,
             "#de77ae"
            ],
            [
             0.3,
             "#f1b6da"
            ],
            [
             0.4,
             "#fde0ef"
            ],
            [
             0.5,
             "#f7f7f7"
            ],
            [
             0.6,
             "#e6f5d0"
            ],
            [
             0.7,
             "#b8e186"
            ],
            [
             0.8,
             "#7fbc41"
            ],
            [
             0.9,
             "#4d9221"
            ],
            [
             1,
             "#276419"
            ]
           ],
           "sequential": [
            [
             0,
             "#0d0887"
            ],
            [
             0.1111111111111111,
             "#46039f"
            ],
            [
             0.2222222222222222,
             "#7201a8"
            ],
            [
             0.3333333333333333,
             "#9c179e"
            ],
            [
             0.4444444444444444,
             "#bd3786"
            ],
            [
             0.5555555555555556,
             "#d8576b"
            ],
            [
             0.6666666666666666,
             "#ed7953"
            ],
            [
             0.7777777777777778,
             "#fb9f3a"
            ],
            [
             0.8888888888888888,
             "#fdca26"
            ],
            [
             1,
             "#f0f921"
            ]
           ],
           "sequentialminus": [
            [
             0,
             "#0d0887"
            ],
            [
             0.1111111111111111,
             "#46039f"
            ],
            [
             0.2222222222222222,
             "#7201a8"
            ],
            [
             0.3333333333333333,
             "#9c179e"
            ],
            [
             0.4444444444444444,
             "#bd3786"
            ],
            [
             0.5555555555555556,
             "#d8576b"
            ],
            [
             0.6666666666666666,
             "#ed7953"
            ],
            [
             0.7777777777777778,
             "#fb9f3a"
            ],
            [
             0.8888888888888888,
             "#fdca26"
            ],
            [
             1,
             "#f0f921"
            ]
           ]
          },
          "colorway": [
           "#636efa",
           "#EF553B",
           "#00cc96",
           "#ab63fa",
           "#FFA15A",
           "#19d3f3",
           "#FF6692",
           "#B6E880",
           "#FF97FF",
           "#FECB52"
          ],
          "font": {
           "color": "#2a3f5f"
          },
          "geo": {
           "bgcolor": "white",
           "lakecolor": "white",
           "landcolor": "#E5ECF6",
           "showlakes": true,
           "showland": true,
           "subunitcolor": "white"
          },
          "hoverlabel": {
           "align": "left"
          },
          "hovermode": "closest",
          "mapbox": {
           "style": "light"
          },
          "paper_bgcolor": "white",
          "plot_bgcolor": "#E5ECF6",
          "polar": {
           "angularaxis": {
            "gridcolor": "white",
            "linecolor": "white",
            "ticks": ""
           },
           "bgcolor": "#E5ECF6",
           "radialaxis": {
            "gridcolor": "white",
            "linecolor": "white",
            "ticks": ""
           }
          },
          "scene": {
           "xaxis": {
            "backgroundcolor": "#E5ECF6",
            "gridcolor": "white",
            "gridwidth": 2,
            "linecolor": "white",
            "showbackground": true,
            "ticks": "",
            "zerolinecolor": "white"
           },
           "yaxis": {
            "backgroundcolor": "#E5ECF6",
            "gridcolor": "white",
            "gridwidth": 2,
            "linecolor": "white",
            "showbackground": true,
            "ticks": "",
            "zerolinecolor": "white"
           },
           "zaxis": {
            "backgroundcolor": "#E5ECF6",
            "gridcolor": "white",
            "gridwidth": 2,
            "linecolor": "white",
            "showbackground": true,
            "ticks": "",
            "zerolinecolor": "white"
           }
          },
          "shapedefaults": {
           "line": {
            "color": "#2a3f5f"
           }
          },
          "ternary": {
           "aaxis": {
            "gridcolor": "white",
            "linecolor": "white",
            "ticks": ""
           },
           "baxis": {
            "gridcolor": "white",
            "linecolor": "white",
            "ticks": ""
           },
           "bgcolor": "#E5ECF6",
           "caxis": {
            "gridcolor": "white",
            "linecolor": "white",
            "ticks": ""
           }
          },
          "title": {
           "x": 0.05
          },
          "xaxis": {
           "automargin": true,
           "gridcolor": "white",
           "linecolor": "white",
           "ticks": "",
           "title": {
            "standoff": 15
           },
           "zerolinecolor": "white",
           "zerolinewidth": 2
          },
          "yaxis": {
           "automargin": true,
           "gridcolor": "white",
           "linecolor": "white",
           "ticks": "",
           "title": {
            "standoff": 15
           },
           "zerolinecolor": "white",
           "zerolinewidth": 2
          }
         }
        },
        "xaxis": {
         "anchor": "y",
         "domain": [
          0,
          1
         ],
         "title": {
          "text": "index"
         }
        },
        "yaxis": {
         "anchor": "x",
         "domain": [
          0,
          1
         ],
         "title": {
          "text": "value"
         }
        }
       }
      }
     },
     "metadata": {}
    }
   ],
   "source": [
    "k = api.search_for(\" \", \"content\",limit = 0, facet_time = \"1year\")\n",
    "k.get_facets().plot(backend = \"plotly\")"
   ]
  },
  {
   "cell_type": "code",
   "execution_count": 15,
   "metadata": {},
   "outputs": [
    {
     "output_type": "execute_result",
     "data": {
      "text/plain": [
       " Search for 'röttgen': 3 results, limit: 10, matches : \n",
       " \n",
       "{'href': 'http://www.zeit.de/schlagworte/orte/roettgen/index', 'lexical': 'Norbert Röttgen', 'uri': 'http://api.zeit.de/keyword/roettgen', 'value': 'Norbert Röttgen', 'score': 36, 'type': 'location', 'id': 'roettgen'} \n",
       " \n",
       "{'href': 'http://www.zeit.de/schlagworte/personen/ellen-roettgen-burtscheidt/index', 'lexical': 'Röttgen-Burtscheidt, Ellen', 'uri': 'http://api.zeit.de/keyword/ellen-roettgen-burtscheidt', 'value': 'Ellen Röttgen-Burtscheidt', 'score': 0, 'type': 'person', 'id': 'ellen-roettgen-burtscheidt'} \n",
       " \n",
       "{'href': 'http://www.zeit.de/schlagworte/personen/norbert-roettgen/index', 'lexical': 'Röttgen, Norbert', 'uri': 'http://api.zeit.de/keyword/norbert-roettgen', 'value': 'Norbert Röttgen', 'score': 36, 'type': 'person', 'id': 'norbert-roettgen'} \n",
       " "
      ]
     },
     "metadata": {},
     "execution_count": 15
    }
   ],
   "source": [
    "api.search_for(\"röttgen\", \"keyword\")"
   ]
  },
  {
   "cell_type": "code",
   "execution_count": 18,
   "metadata": {},
   "outputs": [],
   "source": [
    "def keyword_charter(keywords):\n",
    "    df = pd.DataFrame()\n",
    "    for k in keywords:\n",
    "        ts = api.search_for(k, \"content\",limit = 0, facet_time = \"1year\").get_facets()\n",
    "        #ts = api.get_keyword(k, facet_time=\"1year\").get_facets()\n",
    "        ts.index = ts.index.year\n",
    "        df[k] = ts\n",
    "\n",
    "    return px.line(df)\n"
   ]
  },
  {
   "cell_type": "code",
   "execution_count": 21,
   "metadata": {},
   "outputs": [
    {
     "output_type": "stream",
     "name": "stdout",
     "text": [
      "Armin Laschet\n",
      "Norbert Röttgen\n",
      "Friedrich Merz\n"
     ]
    },
    {
     "output_type": "display_data",
     "data": {
      "application/vnd.plotly.v1+json": {
       "config": {
        "plotlyServerURL": "https://plot.ly"
       },
       "data": [
        {
         "hovertemplate": "variable=Armin Laschet<br>index=%{x}<br>value=%{y}<extra></extra>",
         "legendgroup": "Armin Laschet",
         "line": {
          "color": "#636efa",
          "dash": "solid"
         },
         "mode": "lines",
         "name": "Armin Laschet",
         "orientation": "v",
         "showlegend": true,
         "type": "scatter",
         "x": [
          1994,
          1997,
          2002,
          2004,
          2005,
          2006,
          2007,
          2008,
          2009,
          2010,
          2011,
          2012,
          2013,
          2014,
          2015,
          2016,
          2017,
          2018,
          2019,
          2020
         ],
         "xaxis": "x",
         "y": [
          1,
          1,
          1,
          2,
          3,
          3,
          1,
          4,
          13,
          34,
          8,
          32,
          36,
          23,
          33,
          31,
          99,
          33,
          116,
          399
         ],
         "yaxis": "y"
        },
        {
         "hovertemplate": "variable=Norbert Röttgen<br>index=%{x}<br>value=%{y}<extra></extra>",
         "legendgroup": "Norbert Röttgen",
         "line": {
          "color": "#EF553B",
          "dash": "solid"
         },
         "mode": "lines",
         "name": "Norbert Röttgen",
         "orientation": "v",
         "showlegend": true,
         "type": "scatter",
         "x": [
          1994,
          1997,
          2002,
          2004,
          2005,
          2006,
          2007,
          2008,
          2009,
          2010,
          2011,
          2012,
          2013,
          2014,
          2015,
          2016,
          2017,
          2018,
          2019,
          2020
         ],
         "xaxis": "x",
         "y": [
          1,
          2,
          null,
          4,
          14,
          14,
          2,
          6,
          89,
          173,
          144,
          146,
          22,
          23,
          17,
          28,
          36,
          9,
          58,
          163
         ],
         "yaxis": "y"
        },
        {
         "hovertemplate": "variable=Friedrich Merz<br>index=%{x}<br>value=%{y}<extra></extra>",
         "legendgroup": "Friedrich Merz",
         "line": {
          "color": "#00cc96",
          "dash": "solid"
         },
         "mode": "lines",
         "name": "Friedrich Merz",
         "orientation": "v",
         "showlegend": true,
         "type": "scatter",
         "x": [
          1994,
          1997,
          2002,
          2004,
          2005,
          2006,
          2007,
          2008,
          2009,
          2010,
          2011,
          2012,
          2013,
          2014,
          2015,
          2016,
          2017,
          2018,
          2019,
          2020
         ],
         "xaxis": "x",
         "y": [
          1,
          3,
          20,
          39,
          33,
          11,
          5,
          30,
          20,
          34,
          17,
          16,
          6,
          10,
          8,
          6,
          15,
          12,
          153,
          233
         ],
         "yaxis": "y"
        }
       ],
       "layout": {
        "legend": {
         "title": {
          "text": "variable"
         },
         "tracegroupgap": 0
        },
        "margin": {
         "t": 60
        },
        "template": {
         "data": {
          "bar": [
           {
            "error_x": {
             "color": "#2a3f5f"
            },
            "error_y": {
             "color": "#2a3f5f"
            },
            "marker": {
             "line": {
              "color": "#E5ECF6",
              "width": 0.5
             }
            },
            "type": "bar"
           }
          ],
          "barpolar": [
           {
            "marker": {
             "line": {
              "color": "#E5ECF6",
              "width": 0.5
             }
            },
            "type": "barpolar"
           }
          ],
          "carpet": [
           {
            "aaxis": {
             "endlinecolor": "#2a3f5f",
             "gridcolor": "white",
             "linecolor": "white",
             "minorgridcolor": "white",
             "startlinecolor": "#2a3f5f"
            },
            "baxis": {
             "endlinecolor": "#2a3f5f",
             "gridcolor": "white",
             "linecolor": "white",
             "minorgridcolor": "white",
             "startlinecolor": "#2a3f5f"
            },
            "type": "carpet"
           }
          ],
          "choropleth": [
           {
            "colorbar": {
             "outlinewidth": 0,
             "ticks": ""
            },
            "type": "choropleth"
           }
          ],
          "contour": [
           {
            "colorbar": {
             "outlinewidth": 0,
             "ticks": ""
            },
            "colorscale": [
             [
              0,
              "#0d0887"
             ],
             [
              0.1111111111111111,
              "#46039f"
             ],
             [
              0.2222222222222222,
              "#7201a8"
             ],
             [
              0.3333333333333333,
              "#9c179e"
             ],
             [
              0.4444444444444444,
              "#bd3786"
             ],
             [
              0.5555555555555556,
              "#d8576b"
             ],
             [
              0.6666666666666666,
              "#ed7953"
             ],
             [
              0.7777777777777778,
              "#fb9f3a"
             ],
             [
              0.8888888888888888,
              "#fdca26"
             ],
             [
              1,
              "#f0f921"
             ]
            ],
            "type": "contour"
           }
          ],
          "contourcarpet": [
           {
            "colorbar": {
             "outlinewidth": 0,
             "ticks": ""
            },
            "type": "contourcarpet"
           }
          ],
          "heatmap": [
           {
            "colorbar": {
             "outlinewidth": 0,
             "ticks": ""
            },
            "colorscale": [
             [
              0,
              "#0d0887"
             ],
             [
              0.1111111111111111,
              "#46039f"
             ],
             [
              0.2222222222222222,
              "#7201a8"
             ],
             [
              0.3333333333333333,
              "#9c179e"
             ],
             [
              0.4444444444444444,
              "#bd3786"
             ],
             [
              0.5555555555555556,
              "#d8576b"
             ],
             [
              0.6666666666666666,
              "#ed7953"
             ],
             [
              0.7777777777777778,
              "#fb9f3a"
             ],
             [
              0.8888888888888888,
              "#fdca26"
             ],
             [
              1,
              "#f0f921"
             ]
            ],
            "type": "heatmap"
           }
          ],
          "heatmapgl": [
           {
            "colorbar": {
             "outlinewidth": 0,
             "ticks": ""
            },
            "colorscale": [
             [
              0,
              "#0d0887"
             ],
             [
              0.1111111111111111,
              "#46039f"
             ],
             [
              0.2222222222222222,
              "#7201a8"
             ],
             [
              0.3333333333333333,
              "#9c179e"
             ],
             [
              0.4444444444444444,
              "#bd3786"
             ],
             [
              0.5555555555555556,
              "#d8576b"
             ],
             [
              0.6666666666666666,
              "#ed7953"
             ],
             [
              0.7777777777777778,
              "#fb9f3a"
             ],
             [
              0.8888888888888888,
              "#fdca26"
             ],
             [
              1,
              "#f0f921"
             ]
            ],
            "type": "heatmapgl"
           }
          ],
          "histogram": [
           {
            "marker": {
             "colorbar": {
              "outlinewidth": 0,
              "ticks": ""
             }
            },
            "type": "histogram"
           }
          ],
          "histogram2d": [
           {
            "colorbar": {
             "outlinewidth": 0,
             "ticks": ""
            },
            "colorscale": [
             [
              0,
              "#0d0887"
             ],
             [
              0.1111111111111111,
              "#46039f"
             ],
             [
              0.2222222222222222,
              "#7201a8"
             ],
             [
              0.3333333333333333,
              "#9c179e"
             ],
             [
              0.4444444444444444,
              "#bd3786"
             ],
             [
              0.5555555555555556,
              "#d8576b"
             ],
             [
              0.6666666666666666,
              "#ed7953"
             ],
             [
              0.7777777777777778,
              "#fb9f3a"
             ],
             [
              0.8888888888888888,
              "#fdca26"
             ],
             [
              1,
              "#f0f921"
             ]
            ],
            "type": "histogram2d"
           }
          ],
          "histogram2dcontour": [
           {
            "colorbar": {
             "outlinewidth": 0,
             "ticks": ""
            },
            "colorscale": [
             [
              0,
              "#0d0887"
             ],
             [
              0.1111111111111111,
              "#46039f"
             ],
             [
              0.2222222222222222,
              "#7201a8"
             ],
             [
              0.3333333333333333,
              "#9c179e"
             ],
             [
              0.4444444444444444,
              "#bd3786"
             ],
             [
              0.5555555555555556,
              "#d8576b"
             ],
             [
              0.6666666666666666,
              "#ed7953"
             ],
             [
              0.7777777777777778,
              "#fb9f3a"
             ],
             [
              0.8888888888888888,
              "#fdca26"
             ],
             [
              1,
              "#f0f921"
             ]
            ],
            "type": "histogram2dcontour"
           }
          ],
          "mesh3d": [
           {
            "colorbar": {
             "outlinewidth": 0,
             "ticks": ""
            },
            "type": "mesh3d"
           }
          ],
          "parcoords": [
           {
            "line": {
             "colorbar": {
              "outlinewidth": 0,
              "ticks": ""
             }
            },
            "type": "parcoords"
           }
          ],
          "pie": [
           {
            "automargin": true,
            "type": "pie"
           }
          ],
          "scatter": [
           {
            "marker": {
             "colorbar": {
              "outlinewidth": 0,
              "ticks": ""
             }
            },
            "type": "scatter"
           }
          ],
          "scatter3d": [
           {
            "line": {
             "colorbar": {
              "outlinewidth": 0,
              "ticks": ""
             }
            },
            "marker": {
             "colorbar": {
              "outlinewidth": 0,
              "ticks": ""
             }
            },
            "type": "scatter3d"
           }
          ],
          "scattercarpet": [
           {
            "marker": {
             "colorbar": {
              "outlinewidth": 0,
              "ticks": ""
             }
            },
            "type": "scattercarpet"
           }
          ],
          "scattergeo": [
           {
            "marker": {
             "colorbar": {
              "outlinewidth": 0,
              "ticks": ""
             }
            },
            "type": "scattergeo"
           }
          ],
          "scattergl": [
           {
            "marker": {
             "colorbar": {
              "outlinewidth": 0,
              "ticks": ""
             }
            },
            "type": "scattergl"
           }
          ],
          "scattermapbox": [
           {
            "marker": {
             "colorbar": {
              "outlinewidth": 0,
              "ticks": ""
             }
            },
            "type": "scattermapbox"
           }
          ],
          "scatterpolar": [
           {
            "marker": {
             "colorbar": {
              "outlinewidth": 0,
              "ticks": ""
             }
            },
            "type": "scatterpolar"
           }
          ],
          "scatterpolargl": [
           {
            "marker": {
             "colorbar": {
              "outlinewidth": 0,
              "ticks": ""
             }
            },
            "type": "scatterpolargl"
           }
          ],
          "scatterternary": [
           {
            "marker": {
             "colorbar": {
              "outlinewidth": 0,
              "ticks": ""
             }
            },
            "type": "scatterternary"
           }
          ],
          "surface": [
           {
            "colorbar": {
             "outlinewidth": 0,
             "ticks": ""
            },
            "colorscale": [
             [
              0,
              "#0d0887"
             ],
             [
              0.1111111111111111,
              "#46039f"
             ],
             [
              0.2222222222222222,
              "#7201a8"
             ],
             [
              0.3333333333333333,
              "#9c179e"
             ],
             [
              0.4444444444444444,
              "#bd3786"
             ],
             [
              0.5555555555555556,
              "#d8576b"
             ],
             [
              0.6666666666666666,
              "#ed7953"
             ],
             [
              0.7777777777777778,
              "#fb9f3a"
             ],
             [
              0.8888888888888888,
              "#fdca26"
             ],
             [
              1,
              "#f0f921"
             ]
            ],
            "type": "surface"
           }
          ],
          "table": [
           {
            "cells": {
             "fill": {
              "color": "#EBF0F8"
             },
             "line": {
              "color": "white"
             }
            },
            "header": {
             "fill": {
              "color": "#C8D4E3"
             },
             "line": {
              "color": "white"
             }
            },
            "type": "table"
           }
          ]
         },
         "layout": {
          "annotationdefaults": {
           "arrowcolor": "#2a3f5f",
           "arrowhead": 0,
           "arrowwidth": 1
          },
          "autotypenumbers": "strict",
          "coloraxis": {
           "colorbar": {
            "outlinewidth": 0,
            "ticks": ""
           }
          },
          "colorscale": {
           "diverging": [
            [
             0,
             "#8e0152"
            ],
            [
             0.1,
             "#c51b7d"
            ],
            [
             0.2,
             "#de77ae"
            ],
            [
             0.3,
             "#f1b6da"
            ],
            [
             0.4,
             "#fde0ef"
            ],
            [
             0.5,
             "#f7f7f7"
            ],
            [
             0.6,
             "#e6f5d0"
            ],
            [
             0.7,
             "#b8e186"
            ],
            [
             0.8,
             "#7fbc41"
            ],
            [
             0.9,
             "#4d9221"
            ],
            [
             1,
             "#276419"
            ]
           ],
           "sequential": [
            [
             0,
             "#0d0887"
            ],
            [
             0.1111111111111111,
             "#46039f"
            ],
            [
             0.2222222222222222,
             "#7201a8"
            ],
            [
             0.3333333333333333,
             "#9c179e"
            ],
            [
             0.4444444444444444,
             "#bd3786"
            ],
            [
             0.5555555555555556,
             "#d8576b"
            ],
            [
             0.6666666666666666,
             "#ed7953"
            ],
            [
             0.7777777777777778,
             "#fb9f3a"
            ],
            [
             0.8888888888888888,
             "#fdca26"
            ],
            [
             1,
             "#f0f921"
            ]
           ],
           "sequentialminus": [
            [
             0,
             "#0d0887"
            ],
            [
             0.1111111111111111,
             "#46039f"
            ],
            [
             0.2222222222222222,
             "#7201a8"
            ],
            [
             0.3333333333333333,
             "#9c179e"
            ],
            [
             0.4444444444444444,
             "#bd3786"
            ],
            [
             0.5555555555555556,
             "#d8576b"
            ],
            [
             0.6666666666666666,
             "#ed7953"
            ],
            [
             0.7777777777777778,
             "#fb9f3a"
            ],
            [
             0.8888888888888888,
             "#fdca26"
            ],
            [
             1,
             "#f0f921"
            ]
           ]
          },
          "colorway": [
           "#636efa",
           "#EF553B",
           "#00cc96",
           "#ab63fa",
           "#FFA15A",
           "#19d3f3",
           "#FF6692",
           "#B6E880",
           "#FF97FF",
           "#FECB52"
          ],
          "font": {
           "color": "#2a3f5f"
          },
          "geo": {
           "bgcolor": "white",
           "lakecolor": "white",
           "landcolor": "#E5ECF6",
           "showlakes": true,
           "showland": true,
           "subunitcolor": "white"
          },
          "hoverlabel": {
           "align": "left"
          },
          "hovermode": "closest",
          "mapbox": {
           "style": "light"
          },
          "paper_bgcolor": "white",
          "plot_bgcolor": "#E5ECF6",
          "polar": {
           "angularaxis": {
            "gridcolor": "white",
            "linecolor": "white",
            "ticks": ""
           },
           "bgcolor": "#E5ECF6",
           "radialaxis": {
            "gridcolor": "white",
            "linecolor": "white",
            "ticks": ""
           }
          },
          "scene": {
           "xaxis": {
            "backgroundcolor": "#E5ECF6",
            "gridcolor": "white",
            "gridwidth": 2,
            "linecolor": "white",
            "showbackground": true,
            "ticks": "",
            "zerolinecolor": "white"
           },
           "yaxis": {
            "backgroundcolor": "#E5ECF6",
            "gridcolor": "white",
            "gridwidth": 2,
            "linecolor": "white",
            "showbackground": true,
            "ticks": "",
            "zerolinecolor": "white"
           },
           "zaxis": {
            "backgroundcolor": "#E5ECF6",
            "gridcolor": "white",
            "gridwidth": 2,
            "linecolor": "white",
            "showbackground": true,
            "ticks": "",
            "zerolinecolor": "white"
           }
          },
          "shapedefaults": {
           "line": {
            "color": "#2a3f5f"
           }
          },
          "ternary": {
           "aaxis": {
            "gridcolor": "white",
            "linecolor": "white",
            "ticks": ""
           },
           "baxis": {
            "gridcolor": "white",
            "linecolor": "white",
            "ticks": ""
           },
           "bgcolor": "#E5ECF6",
           "caxis": {
            "gridcolor": "white",
            "linecolor": "white",
            "ticks": ""
           }
          },
          "title": {
           "x": 0.05
          },
          "xaxis": {
           "automargin": true,
           "gridcolor": "white",
           "linecolor": "white",
           "ticks": "",
           "title": {
            "standoff": 15
           },
           "zerolinecolor": "white",
           "zerolinewidth": 2
          },
          "yaxis": {
           "automargin": true,
           "gridcolor": "white",
           "linecolor": "white",
           "ticks": "",
           "title": {
            "standoff": 15
           },
           "zerolinecolor": "white",
           "zerolinewidth": 2
          }
         }
        },
        "xaxis": {
         "anchor": "y",
         "domain": [
          0,
          1
         ],
         "title": {
          "text": "index"
         }
        },
        "yaxis": {
         "anchor": "x",
         "domain": [
          0,
          1
         ],
         "title": {
          "text": "value"
         }
        }
       }
      }
     },
     "metadata": {}
    }
   ],
   "source": [
    "keyword_charter([\"Armin Laschet\", \"Norbert Röttgen\", \"Friedrich Merz\"])"
   ]
  },
  {
   "cell_type": "code",
   "execution_count": 16,
   "metadata": {},
   "outputs": [
    {
     "output_type": "execute_result",
     "data": {
      "text/plain": [
       "[{'snippet': ' war, fanden Gene Roddenberry und John F. <em>Kennedy</em> in den Sechzigerjahren eine neue, ultimative Herausforderung für eine Nation, die ihrem Selbstverständnis nach keine Grenzen kennt: die final frontier',\n",
       "  'uuid': '3zpGFOCx9LMbzOXvSaAY81',\n",
       "  'title': 'Dausend Prozent',\n",
       "  'release_date': '2021-02-25T07:09:15Z',\n",
       "  'uri': 'http://api.zeit.de/content/3zpGFOCx9LMbzOXvSaAY81',\n",
       "  'supertitle': 'Mars-Rover \"Perseverance\"',\n",
       "  'href': 'http://www.zeit.de/2021/09/mars-rover-perseverance-weltraum-forschung-deutschland',\n",
       "  'teaser_title': 'Dausend Prozent'},\n",
       " {'subtitle': 'Mit seinem Magazin \"Hustler\" sorgte er in den USA seit Jahrzehnten für Skandale. Nun ist Larry Flynt laut mehreren Medien im Alter von 78 Jahren gestorben.',\n",
       "  'uuid': '713xcCA5tXm8oILuzZCwOd',\n",
       "  'title': 'Porno-Verleger Larry Flynt ist tot',\n",
       "  'href': 'http://www.zeit.de/gesellschaft/zeitgeschehen/2021-02/hustler-gruender-larry-flynt-gestorben',\n",
       "  'release_date': '2021-02-11T00:18:34Z',\n",
       "  'uri': 'http://api.zeit.de/content/713xcCA5tXm8oILuzZCwOd',\n",
       "  'snippet': ' früheren First Lady Jacqueline <em>Kennedy</em> Onassis veröffentlichte.\\nFlynt hatte für sich reklamiert, gegen Zensur und für die Meinungsfreiheit zu kämpfen. Unzählige Male stand er vor Gericht, er landete auch',\n",
       "  'supertitle': '\"Hustler\"-Gründer',\n",
       "  'teaser_text': 'Mit seinem Magazin \"Hustler\" sorgte er in den USA seit Jahrzehnten für Skandale. Nun ist Larry Flynt laut mehreren Medien im Alter von 78 Jahren gestorben.',\n",
       "  'teaser_title': 'Porno-Verleger Larry Flynt ist tot'},\n",
       " {'subtitle': 'Josh Hawley könnte der nächste Rebell der Republikaner werden – besser ausgebildet, jünger und professioneller.',\n",
       "  'uuid': '7jfhjCJaEQqvTXmN4CabyD',\n",
       "  'title': 'Trumps Enkel',\n",
       "  'href': 'http://www.zeit.de/2021/07/josh-hawley-donald-trump-us-republikaner',\n",
       "  'release_date': '2021-02-10T15:57:54Z',\n",
       "  'uri': 'http://api.zeit.de/content/7jfhjCJaEQqvTXmN4CabyD',\n",
       "  'snippet': ' Federalist Society, die Verbindungen bis in den Supreme Court hat.\\nMentoren zu finden ist Hawley nie schwergefallen, auch über das konservative Milieu hinaus. Der liberale Stanford-Historiker David <em>Kennedy</em>',\n",
       "  'supertitle': 'Josh Hawley',\n",
       "  'teaser_text': 'Josh Hawley könnte der nächste Rebell der US-Republikaner werden: besser ausgebildet, jünger und professioneller. Sein Feind ist die Moderne, und er kämpft nicht allein.',\n",
       "  'teaser_title': 'Trumps smarter Enkel'}]"
      ]
     },
     "metadata": {},
     "execution_count": 16
    }
   ],
   "source": []
  },
  {
   "cell_type": "code",
   "execution_count": 2,
   "metadata": {},
   "outputs": [
    {
     "output_type": "stream",
     "name": "stdout",
     "text": [
      "Help on package zeit:\n\nNAME\n    zeit - #%%\n\nPACKAGE CONTENTS\n\n\nCLASSES\n    builtins.object\n        API\n        Article\n        BaseClass\n            Keyword\n            Search\n    \n    class API(builtins.object)\n     |  #the central API Class\n     |  \n     |  Methods defined here:\n     |  \n     |  __init__(self)\n     |      Initialize self.  See help(type(self)) for accurate signature.\n     |  \n     |  get(self, url='http://api.zeit.de/content', limit=10, search=False, time_range=False, fields=False, facet_time=False)\n     |      function to get content from the api, really broadly defined\n     |      Arguments: \n     |          url: content endpoint, default = api.zeit.de/content is standard content endpoint\n     |          limit: number results, default : 10\n     |          search: a specific search string\n     |          time-range: expects tuple of two datetime objects, default False\n     |          fields: return specific fields of the repsonse, expects a list\n     |          facetting = the time frame specified, e.g \"1year\"\n     |      \n     |      Returns: \n     |          pure web response in json format\n     |  \n     |  get_article(self, article_id)\n     |      function to get an article by ist article id\n     |  \n     |  get_author(self, author_id, limit=1)\n     |      get an author by id, expects a valid author id \n     |      and optionally a limit on the number of articles\n     |  \n     |  get_keyword(self, keyword_id, limit=1, facet_time=False)\n     |      get information about a keyword, expects keyword id and\n     |      optionally a limit on the number of articles returned\n     |  \n     |  get_status(self)\n     |      checks the status of the connection with the api, takes a API-KEY as input\n     |      raises Error when not workin\n     |  \n     |  search_for(self, search_string, search_type='content', limit=10, time_range=False, facet_time=False)\n     |      search the API for a specified string, one word only\n     |      allowed search types = content, keyword, department, author, product author\n     |      allows a time range of the format tuple(time1, time2)\n     |      also allows for facetting by setting a facet_time line '1year' etc.\n     |      \n     |      returns a Search Class\n     |  \n     |  set_token(self, api_key)\n     |      set the api key, expects key\n     |      raises Error when key is not proper\n     |  \n     |  ----------------------------------------------------------------------\n     |  Data descriptors defined here:\n     |  \n     |  __dict__\n     |      dictionary for instance variables (if defined)\n     |  \n     |  __weakref__\n     |      list of weak references to the object (if defined)\n    \n    class Article(builtins.object)\n     |  Article(response)\n     |  \n     |  #%%\n     |  #simple article class , todo: web scraper\n     |  \n     |  Methods defined here:\n     |  \n     |  __init__(self, response)\n     |      Initialize self.  See help(type(self)) for accurate signature.\n     |  \n     |  get_authors(self)\n     |      get the authors linked to the article, returns \n     |      a dict of {uri:name, uri:name}\n     |  \n     |  get_date(self)\n     |      get release date of the article, returns a pandas timestamp\n     |  \n     |  get_keywords(self)\n     |      get the keywords linked to the article, returns\n     |      a dict of {\"uri\":\"name\", \"uri\":\"name\"}\n     |  \n     |  get_raw(self)\n     |  \n     |  ----------------------------------------------------------------------\n     |  Data descriptors defined here:\n     |  \n     |  __dict__\n     |      dictionary for instance variables (if defined)\n     |  \n     |  __weakref__\n     |      list of weak references to the object (if defined)\n    \n    class BaseClass(builtins.object)\n     |  #%%\n     |  \n     |  Methods defined here:\n     |  \n     |  get_facets(self)\n     |      get facets of the object, needs set_facets called before\n     |      returns a pandas time series\n     |  \n     |  has_facets(self)\n     |      function to see if object has facets or not\n     |      True if it has facets, False if not\n     |  \n     |  set_facets(self)\n     |      add facets to the object, only works if response has facetting activated\n     |  \n     |  ----------------------------------------------------------------------\n     |  Data descriptors defined here:\n     |  \n     |  __dict__\n     |      dictionary for instance variables (if defined)\n     |  \n     |  __weakref__\n     |      list of weak references to the object (if defined)\n    \n    class Keyword(BaseClass)\n     |  Keyword(response)\n     |  \n     |  #the keyword class\n     |  \n     |  Method resolution order:\n     |      Keyword\n     |      BaseClass\n     |      builtins.object\n     |  \n     |  Methods defined here:\n     |  \n     |  __init__(self, response)\n     |      initialize a keyword instance from a json response\n     |  \n     |  __repr__(self)\n     |      Return repr(self).\n     |  \n     |  get_articles(self)\n     |      get the articles associated with the response,\n     |      only works if there were articles in the initilization\n     |      \n     |      returns a dict of keys : article ids and values : a list of type [title, subtitle, zeitonline link]\n     |  \n     |  get_raw(self)\n     |      get raw json response of the keyword\n     |  \n     |  ----------------------------------------------------------------------\n     |  Methods inherited from BaseClass:\n     |  \n     |  get_facets(self)\n     |      get facets of the object, needs set_facets called before\n     |      returns a pandas time series\n     |  \n     |  has_facets(self)\n     |      function to see if object has facets or not\n     |      True if it has facets, False if not\n     |  \n     |  set_facets(self)\n     |      add facets to the object, only works if response has facetting activated\n     |  \n     |  ----------------------------------------------------------------------\n     |  Data descriptors inherited from BaseClass:\n     |  \n     |  __dict__\n     |      dictionary for instance variables (if defined)\n     |  \n     |  __weakref__\n     |      list of weak references to the object (if defined)\n    \n    class Search(BaseClass)\n     |  Search(search_term, response)\n     |  \n     |  class which makes the response of a search prettier and easier to understand\n     |  \n     |  Method resolution order:\n     |      Search\n     |      BaseClass\n     |      builtins.object\n     |  \n     |  Methods defined here:\n     |  \n     |  __init__(self, search_term, response)\n     |      Initialize self.  See help(type(self)) for accurate signature.\n     |  \n     |  __repr__(self)\n     |      Return repr(self).\n     |  \n     |  get_matches(self)\n     |      get the matches of the search result , returns a dictionary\n     |      of type {title:json}\n     |  \n     |  get_raw(self)\n     |      get the pure json of the search\n     |  \n     |  ----------------------------------------------------------------------\n     |  Methods inherited from BaseClass:\n     |  \n     |  get_facets(self)\n     |      get facets of the object, needs set_facets called before\n     |      returns a pandas time series\n     |  \n     |  has_facets(self)\n     |      function to see if object has facets or not\n     |      True if it has facets, False if not\n     |  \n     |  set_facets(self)\n     |      add facets to the object, only works if response has facetting activated\n     |  \n     |  ----------------------------------------------------------------------\n     |  Data descriptors inherited from BaseClass:\n     |  \n     |  __dict__\n     |      dictionary for instance variables (if defined)\n     |  \n     |  __weakref__\n     |      list of weak references to the object (if defined)\n\nFUNCTIONS\n    facetter(response)\n        takes in the json of a response, returns a time series of the facets\n\nFILE\n    /Users/code/Documents/Zeit/zeit/__init__.py\n\n\n"
     ]
    }
   ],
   "source": []
  },
  {
   "cell_type": "code",
   "execution_count": null,
   "metadata": {},
   "outputs": [],
   "source": []
  }
 ],
 "metadata": {
  "kernelspec": {
   "display_name": "Python 3",
   "language": "python",
   "name": "python3"
  },
  "language_info": {
   "codemirror_mode": {
    "name": "ipython",
    "version": 3
   },
   "file_extension": ".py",
   "mimetype": "text/x-python",
   "name": "python",
   "nbconvert_exporter": "python",
   "pygments_lexer": "ipython3",
   "version": "3.9.1-final"
  }
 },
 "nbformat": 4,
 "nbformat_minor": 4
}