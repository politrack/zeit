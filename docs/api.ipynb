{
 "metadata": {
  "language_info": {
   "codemirror_mode": {
    "name": "ipython",
    "version": 3
   },
   "file_extension": ".py",
   "mimetype": "text/x-python",
   "name": "python",
   "nbconvert_exporter": "python",
   "pygments_lexer": "ipython3",
   "version": "3.9.1-final"
  },
  "orig_nbformat": 2,
  "kernelspec": {
   "name": "python3",
   "display_name": "Python 3.9.1 64-bit ('venv': venv)",
   "metadata": {
    "interpreter": {
     "hash": "c665773a59edb6f74562ce97a879fb8635997cad54e302f3b3a6da032e210c4e"
    }
   }
  }
 },
 "nbformat": 4,
 "nbformat_minor": 2,
 "cells": [
  {
   "source": [
    "# API\n",
    "the API is the central class of the zeit-online package. Via it, you interact with the Web-API and have many different methods at hand to get contents of the API."
   ],
   "cell_type": "markdown",
   "metadata": {}
  },
  {
   "source": [
    "### Initialize and set token"
   ],
   "cell_type": "markdown",
   "metadata": {}
  },
  {
   "cell_type": "code",
   "execution_count": 1,
   "metadata": {},
   "outputs": [],
   "source": [
    "from zeit import API\n",
    "api = API() # initialize the api\n",
    "api.set_token(\"api-key\") #set your key here"
   ]
  },
  {
   "source": [
    "---\n",
    "### get_status()\n",
    "This is just a simple method that checks whether your connection with the API is good. If something is wrong, it raises an Exception"
   ],
   "cell_type": "markdown",
   "metadata": {}
  },
  {
   "cell_type": "code",
   "execution_count": 8,
   "metadata": {},
   "outputs": [
    {
     "output_type": "execute_result",
     "data": {
      "text/plain": [
       "'everything ok'"
      ]
     },
     "metadata": {},
     "execution_count": 8
    }
   ],
   "source": [
    "api.get_status()"
   ]
  },
  {
   "source": [
    "---\n",
    "### client()\n",
    "similar to *get_status*, the *client()* method is used to get the client endpoint from the zeit-api, described [here](http://developer.zeit.de/docs/client/). This function returns a Client object, which is further described in the section **other classes**, but it has some simple methods to help you, for example it shows you how many requests you have left. This method is more useful if you want more information about your Client."
   ],
   "cell_type": "markdown",
   "metadata": {}
  },
  {
   "cell_type": "code",
   "execution_count": 9,
   "metadata": {},
   "outputs": [
    {
     "output_type": "execute_result",
     "data": {
      "text/plain": [
       "9996"
      ]
     },
     "metadata": {},
     "execution_count": 9
    }
   ],
   "source": [
    "client = api.client()\n",
    "client.requests_left()"
   ]
  },
  {
   "source": [
    "---\n",
    "### search_for(search_string, search_type = \"content\", limit = 10, time_range = False, facet_time = False)\n",
    "\n",
    "This is the most important method of the API, it allows you to easily search for something and get some matches. It works by specifying a search string and a search_type, which is a endpoint of the api, e.g *\"content\"*, *\"keyword\"*, *\"author\"*, etc. It allows you to limit the number of matches and filter by a certain time range (specified by a tuple of two *datetime* objects) or facet your results, as explained in the original [documentation](http://developer.zeit.de/docs/)\n",
    "\n",
    "**Arguments**:\n",
    "\n",
    "- *search_string*: a string specifying which word or words you want to search for, e.g \"Angela Merkel\"\n",
    "- *search_type*: a valid API Endpoint, e.g *\"content\"*, *\"keyword\"*, *\"author\"*, etc\n",
    "- *limit*: the limit on the number of matches you want\n",
    "- *time_range*: a tuple of two *datetime* or *pandas.Timestamp* objects, the one farer in the past first\n",
    "- *facet_time*: if you want to facet the results with time, input here a valid time string like *\"1year\"* , *\"3day\"* or *\"2month\"* or a combination of it"
   ],
   "cell_type": "markdown",
   "metadata": {}
  },
  {
   "cell_type": "code",
   "execution_count": 13,
   "metadata": {},
   "outputs": [
    {
     "output_type": "execute_result",
     "data": {
      "text/plain": [
       " Search for 'Angela Merkel': 16491 results, limit: 1, matches : \n",
       " \n",
       "\"Von den Schnelltests sind mehr als genug da\": http://api.zeit.de/content/5OmCP26nAXSKQEWM2sPf8b"
      ]
     },
     "metadata": {},
     "execution_count": 13
    }
   ],
   "source": [
    "#search all articles for Angela Merkel, limit the results to 1 and facet it by 1 year\n",
    "api.search_for(\"Angela Merkel\", limit=1)  "
   ]
  },
  {
   "cell_type": "code",
   "execution_count": 12,
   "metadata": {},
   "outputs": [
    {
     "output_type": "execute_result",
     "data": {
      "text/plain": [
       " Search for 'Angela Merkel': 2 results, limit: 10, matches : \n",
       " \n",
       "Angela Merkel: http://api.zeit.de/keyword/angela-merkels\n",
       "Angela Merkel: http://api.zeit.de/keyword/angela-merkel"
      ]
     },
     "metadata": {},
     "execution_count": 12
    }
   ],
   "source": [
    "#search for keywords containing \"Angela Merkel\"\n",
    "api.search_for(\"Angela Merkel\", \"keyword\")"
   ]
  },
  {
   "source": [
    "---\n",
    "### get_article(article_id)\n",
    "\n",
    "This searches the *Content* Endpoint by ID and returns a **Article** Class, which is closer described in section Article. \n",
    "\n",
    "**Arguments**:\n",
    "\n",
    "- *article_id*: the UUID of an article or its URI to search for"
   ],
   "cell_type": "markdown",
   "metadata": {}
  },
  {
   "cell_type": "code",
   "execution_count": 14,
   "metadata": {},
   "outputs": [
    {
     "output_type": "execute_result",
     "data": {
      "text/plain": [
       "Article with title '\"Von den Schnelltests sind mehr als genug da\"' UUID: 5OmCP26nAXSKQEWM2sPf8b, URI: http://api.zeit.de/content/5OmCP26nAXSKQEWM2sPf8b            teaser_text: 'Bundesgesundheitsminister Jens Spahn hat die Corona-Strategie von Bund und Ländern verteidigt. Keine Öffnungsschritte zu wagen sei kaum verantwortbar gewesen.'"
      ]
     },
     "metadata": {},
     "execution_count": 14
    }
   ],
   "source": [
    "#lets reuse the search for Angela Merkel\n",
    "api.get_article(\"5OmCP26nAXSKQEWM2sPf8b\") #search by UUID, URI also possible"
   ]
  },
  {
   "source": [
    "---\n",
    "### get_keyword(keyword_id, limit = 1, facet_time = False)\n",
    "\n",
    "This method is used to get a keyword from the *Keyword* Endpoint. It allows facetting to analyze the usage of a keyword over time and returns a **Keyword** Class, further defined in **Other classes**\n",
    "\n",
    "**Arguments**:\n",
    "\n",
    "- *keyword_id*: a valid keyword like 'angela-merkel' or a URI of a keyword \n",
    "- *limit*: limits the articles linked to the keyword, default 1\n",
    "- *facet_time*: facette the articles as described in the *search_for(...)* method;  input here a valid time string like *\"1year\"* , *\"3day\"* or *\"2month\"* or a combination of it"
   ],
   "cell_type": "markdown",
   "metadata": {}
  },
  {
   "cell_type": "code",
   "execution_count": 20,
   "metadata": {},
   "outputs": [
    {
     "output_type": "execute_result",
     "data": {
      "text/plain": [
       "Keyword: 'Merkel, Angela' with id 'Angela Merkel' \n",
       ",        keyword type: 'person' with score 93 and 9357 matches \n",
       "\n",
       "        matches: [{'subtitle': 'Einer Umfrage von Infratest dimap zufolge liegen die Grünen kurz vor der Landtagswahl deutlich vor der CDU. Die Linke muss um den Einzug in den Landtag bangen.', 'uuid': '7KuHcKTSXn5IOZvQLYnpLM', 'title': 'Grüne mit acht Punkten Vorsprung derzeit stärkste Kraft', 'href': 'http://www.zeit.de/politik/deutschland/2021-03/baden-wuerttemberg-winfried-kretschmann-gruene-cdu-landtagswahl-infratest-dimap-umfrage', 'release_date': '2021-03-04T18:31:32Z', 'uri': 'http://api.zeit.de/content/7KuHcKTSXn5IOZvQLYnpLM', 'supertitle': 'Baden-Württemberg', 'teaser_text': 'Einer Umfrage von Infratest dimap zufolge liegen die Grünen kurz vor der Landtagswahl deutlich vor der CDU. Die Linke muss um den Einzug in den Landtag bangen.', 'teaser_title': 'Grüne mit acht Punkten Vorsprung derzeit stärkste Kraft'}]"
      ]
     },
     "metadata": {},
     "execution_count": 20
    }
   ],
   "source": [
    "api.get_keyword(\"angela-merkel\")"
   ]
  },
  {
   "source": [
    "---\n",
    "### get_department(department_id, limit = 1)\n",
    "\n",
    "get a department of the Zeit-Verlag, e.g Politik or Ausland. Returns a **Department** Object, further described in **Other Classes**\n",
    "\n",
    "**Arguments:**\n",
    "\n",
    "- *department_id*: the id of a department, can either be a URI or the ID.\n",
    "- *limit* : limit the number of articles shown, default 1"
   ],
   "cell_type": "markdown",
   "metadata": {}
  },
  {
   "cell_type": "code",
   "execution_count": 21,
   "metadata": {},
   "outputs": [
    {
     "output_type": "execute_result",
     "data": {
      "text/plain": [
       " Search for 'pol': 1 results, limit: 10, matches : \n",
       " \n",
       "Politik: http://api.zeit.de/department/politik"
      ]
     },
     "metadata": {},
     "execution_count": 21
    }
   ],
   "source": [
    "#search for a department\n",
    "api.search_for(\"pol\", \"department\")"
   ]
  },
  {
   "cell_type": "code",
   "execution_count": 22,
   "metadata": {},
   "outputs": [
    {
     "output_type": "execute_result",
     "data": {
      "text/plain": [
       "Department Politik \n",
       " Articles: 35170; \n",
       " uri:http://api.zeit.de/department/politik \n",
       " no parent"
      ]
     },
     "metadata": {},
     "execution_count": 22
    }
   ],
   "source": [
    "#get that department\n",
    "api.get_department(\"politik\")"
   ]
  },
  {
   "source": [
    "---\n",
    "### get_author(author_id, limit = 1)\n",
    "\n",
    "This searches the *Author* Endpoint by ID or possibly the URI of the Author\n",
    "\n",
    "**Arguments**:\n",
    "\n",
    "- author_id*: the UUID of an author or its URI to search for"
   ],
   "cell_type": "markdown",
   "metadata": {}
  },
  {
   "cell_type": "code",
   "execution_count": 18,
   "metadata": {},
   "outputs": [
    {
     "output_type": "execute_result",
     "data": {
      "text/plain": [
       " Search for 'Joffe': 19 results, limit: 1, matches : \n",
       " \n",
       " Josef Joffe: http://api.zeit.de/author/-Josef-Joffe"
      ]
     },
     "metadata": {},
     "execution_count": 18
    }
   ],
   "source": [
    "#search for an example author\n",
    "api.search_for(\"Joffe\", \"author\", limit = 1)"
   ]
  },
  {
   "cell_type": "code",
   "execution_count": 19,
   "metadata": {},
   "outputs": [
    {
     "output_type": "execute_result",
     "data": {
      "text/plain": [
       "{'matches': [{'subtitle': 'Ein etwas anderer Jahresrückblick: Es wurde immer schlimmer in diesem Jahr, weshalb die Habenseite der Bilanz zu feiern ist.',\n",
       "   'uuid': '1WExS9cVBz0XM0yT9FkwmA',\n",
       "   'title': 'Die Lage ist hoffnungslos, aber nicht ernst',\n",
       "   'href': 'http://www.zeit.de/politik/2020-12/2020-jahresrueckblick-coronavirus-donald-trump-klimakrise',\n",
       "   'release_date': '2020-12-30T12:36:43Z',\n",
       "   'uri': 'http://api.zeit.de/content/1WExS9cVBz0XM0yT9FkwmA',\n",
       "   'supertitle': '2020',\n",
       "   'teaser_text': 'Ein etwas anderer Jahresrückblick: Es wurde immer schlimmer in diesem Jahr, weshalb die Habenseite der Bilanz zu feiern ist.',\n",
       "   'teaser_title': 'Die Lage ist hoffnungslos, aber nicht ernst'}],\n",
       " 'uri': 'http://api.zeit.de/author/-Josef-Joffe',\n",
       " 'value': ' Josef Joffe',\n",
       " 'href': '',\n",
       " 'limit': 1,\n",
       " 'offset': 0,\n",
       " 'found': 1141,\n",
       " 'type': 'author',\n",
       " 'id': '-Josef-Joffe'}"
      ]
     },
     "metadata": {},
     "execution_count": 19
    }
   ],
   "source": [
    "api.get_author(\"-Josef-Joffe\", limit = 1)"
   ]
  },
  {
   "source": [
    "---\n",
    "### get(url = \"http://api.zeit.de/content\",  limit = 10,  search = False,  timthe *get(...)* method is used to communicate with the API similar to a HTTP GET, but already preconfigured. \n",
    "\n",
    "**Arguments**:\n",
    "- *url*: the endpoint with which the api should communicate, default is the content endpoint\n",
    "- *limit*: the limit on the number of matches shown in the response, default 10\n",
    "- *search*: the string to search for, similiar to *q* in REST-APIs, default False\n",
    "- *time_range*: expects a time_range in the form of a tuple of two *datetime* or *pandas.Timestamp* Instances\n",
    "- *fields* : if you want the response just to contain certain fields\n",
    "- *facet_time* : if you want to facet the results with time, input here a valid time string like *\"1year\"* , *\"3day\"* or *\"2month\"* or a combination of it"
   ],
   "cell_type": "markdown",
   "metadata": {}
  },
  {
   "cell_type": "code",
   "execution_count": 10,
   "metadata": {},
   "outputs": [
    {
     "output_type": "execute_result",
     "data": {
      "text/plain": [
       "{'matches': [{'subtitle': 'Der Unionsfraktionsvize kandidiert nicht erneut für den Bundestag. Die Staatsanwaltschaft durchsuchte jüngst sein Bundestagsbüro – er war in Masken-Geschäfte involviert.',\n",
       "   'uuid': '7zJHkLefQuFQKQMgMx6WXW',\n",
       "   'title': 'CSU-Politiker Nüßlein zieht sich aus der Politik zurück',\n",
       "   'href': 'http://www.zeit.de/politik/deutschland/2021-03/georg-nuesslein-csu-bundestag-politik-masken-affaere-korruption',\n",
       "   'release_date': '2021-03-05T16:04:47Z',\n",
       "   'uri': 'http://api.zeit.de/content/7zJHkLefQuFQKQMgMx6WXW',\n",
       "   'snippet': ' Rechtsanwalt mitteilte, wird er sein ruhendes Amt als stellvertretender Vorsitzender der Unionsfraktion im <em>Bundestag</em> niederlegen. Bei der Bundestagswahl im September will er nicht mehr kandidieren.\\nDie',\n",
       "   'supertitle': 'Corona-Maskenbeschaffung',\n",
       "   'teaser_text': 'Der Unionsfraktionsvize kandidiert nicht erneut für den Bundestag. Die Staatsanwaltschaft durchsuchte jüngst sein Bundestagsbüro – er war in Masken-Geschäfte involviert.',\n",
       "   'teaser_title': 'CSU-Politiker Nüßlein zieht sich aus der Politik zurück'}],\n",
       " 'found': 22262,\n",
       " 'limit': 1,\n",
       " 'offset': 0}"
      ]
     },
     "metadata": {},
     "execution_count": 10
    }
   ],
   "source": [
    "api.get(url = \"http://api.zeit.de/content\", limit = 1, search = \"Bundestag\") # search for bundestag in the content endpoint and limit the results to 1"
   ]
  }
 ]
}