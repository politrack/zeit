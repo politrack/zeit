{
 "metadata": {
  "language_info": {
   "codemirror_mode": {
    "name": "ipython",
    "version": 3
   },
   "file_extension": ".py",
   "mimetype": "text/x-python",
   "name": "python",
   "nbconvert_exporter": "python",
   "pygments_lexer": "ipython3",
   "version": "3.9.1-final"
  },
  "orig_nbformat": 2,
  "kernelspec": {
   "name": "python3",
   "display_name": "Python 3.9.1 64-bit ('venv': venv)",
   "metadata": {
    "interpreter": {
     "hash": "c665773a59edb6f74562ce97a879fb8635997cad54e302f3b3a6da032e210c4e"
    }
   }
  }
 },
 "nbformat": 4,
 "nbformat_minor": 2,
 "cells": [
  {
   "cell_type": "code",
   "execution_count": 2,
   "metadata": {},
   "outputs": [],
   "source": [
    "#some importing so that everything works \n",
    "import zeit \n",
    "api = zeit.API()\n",
    "api.set_token(\"api-key\") #insert your key here"
   ]
  },
  {
   "source": [
    "# Other Classes\n",
    "There are also a bunch of other classes defined in the zeit-online package, most of them the return of a *API.get_xxx()* method, and inherently useful to make the representation prettier and easier to extract information\n"
   ],
   "cell_type": "markdown",
   "metadata": {}
  },
  {
   "source": [
    "***\n",
    "## Excurse on Facetting\n",
    "\n",
    "As described in the official Documentation, the API supports **facetting** the results. If you specify facetting in a call to the API, for example in *API.search_for(..., facet_time = \"1year\"), the Response from the server includes a facet field, which is automatically parsed into the Classes of your Response, described here. \n",
    "\n",
    "In these Classes, it is possible to use methods to get and set facets, which are the same in every class, so I describe them here.\n"
   ],
   "cell_type": "markdown",
   "metadata": {}
  },
  {
   "cell_type": "code",
   "execution_count": 16,
   "metadata": {},
   "outputs": [
    {
     "output_type": "stream",
     "name": "stdout",
     "text": [
      "Keyword: 'Merkel, Angela' with id 'Angela Merkel' \n,        keyword type: 'person' with score 93 and 9358 matches \n\n        matches: [{'subtitle': 'Die Kanzlerin warnt davor, in der Pandemie wieder in alte Rollenmuster zu fallen. Sie fordert: \"Frauen müssen endlich so viel verdienen können wie Männer.\"', 'uuid': '7a1pFhYajBxkeQ02KK8vGY', 'title': 'Merkel fordert Parität in allen gesellschaftlichen Bereichen', 'href': 'http://www.zeit.de/politik/deutschland/2021-03/angela-merkel-video-podcast-frauen-gleichberechtigung-gender-pay-gap', 'release_date': '2021-03-06T11:02:02Z', 'uri': 'http://api.zeit.de/content/7a1pFhYajBxkeQ02KK8vGY', 'supertitle': 'Video-Podcast', 'teaser_text': 'Die Kanzlerin warnt davor, in der Pandemie wieder in alte Rollenmuster zu fallen. Sie fordert: \"Frauen müssen endlich so viel verdienen können wie Männer.\"', 'teaser_title': 'Merkel fordert Parität in allen gesellschaftlichen Bereichen'}]\n"
     ]
    }
   ],
   "source": [
    "kw = api.get_keyword(\"angela-merkel\", facet_time=\"1year\") # search for the Merkel Keyword with a facetting time of 1 year\n",
    "print(kw)"
   ]
  },
  {
   "source": [
    "### has_facets()\n",
    "\n",
    "This function is useful, if you want to find out, if your Instance has facets. It simply returns True, if the object has, or False if not"
   ],
   "cell_type": "markdown",
   "metadata": {}
  },
  {
   "cell_type": "code",
   "execution_count": 17,
   "metadata": {},
   "outputs": [
    {
     "output_type": "execute_result",
     "data": {
      "text/plain": [
       "True"
      ]
     },
     "metadata": {},
     "execution_count": 17
    }
   ],
   "source": [
    "kw.has_facets()"
   ]
  },
  {
   "cell_type": "code",
   "execution_count": 18,
   "metadata": {},
   "outputs": [
    {
     "output_type": "execute_result",
     "data": {
      "text/plain": [
       "1990-03-09 10:55:48.911000+00:00      5\n",
       "1991-03-09 10:55:48.911000+00:00      9\n",
       "1992-03-09 10:55:48.911000+00:00      9\n",
       "1993-03-09 10:55:48.911000+00:00     10\n",
       "1994-03-09 10:55:48.911000+00:00      9\n",
       "1995-03-09 10:55:48.911000+00:00     21\n",
       "1996-03-09 10:55:48.911000+00:00     11\n",
       "1997-03-09 10:55:48.911000+00:00     11\n",
       "1998-03-09 10:55:48.911000+00:00      2\n",
       "1999-03-09 10:55:48.911000+00:00     23\n",
       "2000-03-09 10:55:48.911000+00:00     55\n",
       "2001-03-09 10:55:48.911000+00:00     29\n",
       "2002-03-09 10:55:48.911000+00:00     21\n",
       "2003-03-09 10:55:48.911000+00:00     56\n",
       "2004-03-09 10:55:48.911000+00:00     64\n",
       "2005-03-09 10:55:48.911000+00:00    189\n",
       "2006-03-09 10:55:48.911000+00:00    131\n",
       "2007-03-09 10:55:48.911000+00:00     35\n",
       "2008-03-09 10:55:48.911000+00:00    312\n",
       "2009-03-09 10:55:48.911000+00:00    985\n",
       "2010-03-09 10:55:48.911000+00:00    872\n",
       "2011-03-09 10:55:48.911000+00:00    884\n",
       "2012-03-09 10:55:48.911000+00:00    744\n",
       "2013-03-09 10:55:48.911000+00:00    941\n",
       "2014-03-09 10:55:48.911000+00:00    720\n",
       "2015-03-09 10:55:48.911000+00:00    720\n",
       "2016-03-09 10:55:48.911000+00:00    727\n",
       "2017-03-09 10:55:48.911000+00:00    790\n",
       "2018-03-09 10:55:48.911000+00:00     40\n",
       "2019-03-09 10:55:48.911000+00:00    221\n",
       "2020-03-09 10:55:48.911000+00:00    712\n",
       "dtype: int64"
      ]
     },
     "metadata": {},
     "execution_count": 18
    }
   ],
   "source": [
    "kw.get_facets()"
   ]
  },
  {
   "source": [
    "### set_facets()\n",
    "\n",
    "This is just for the initialization of the object, to direct ot to extract the facets from the Response. It is used automatically, when you search for something with a facet\n"
   ],
   "cell_type": "markdown",
   "metadata": {}
  },
  {
   "source": [
    "---\n",
    "## Search\n",
    "The Search Class is the Result of a *API.search_for(\"\")* operation. It is very useful to better visualize the results via its \\__repr__ method. It supports the facetting of its Results, described above\n",
    "\n",
    "### Attributes\n",
    "\n",
    "- *self.name*: The search term of the Search Operation\n",
    "- *self.found* : The number of results found in the API\n",
    "- *self.limit:* The limit specified in the call for the search\n",
    "- *self.matches*: the matches in json format, better use *Search.get_matches()* to extract them\n"
   ],
   "cell_type": "markdown",
   "metadata": {}
  },
  {
   "cell_type": "code",
   "execution_count": 10,
   "metadata": {},
   "outputs": [
    {
     "output_type": "stream",
     "name": "stdout",
     "text": [
      " Search for 'Bundestag': 42961 results, limit: 2, matches : \n \nKorruptionsbekämpfer fordern Konsequenzen aus der Maskenaffäre: http://api.zeit.de/content/3Fizoi5qwm86G2afGt00Pw\nDie Maskenaffären und ihre Konsequenzen: http://api.zeit.de/content/1G6CjaHX5S01zd2LElisSb\n\n"
     ]
    }
   ],
   "source": [
    "#example search\n",
    "s = api.search_for(\"Bundestag\", limit = 2)\n",
    "print(s)"
   ]
  },
  {
   "cell_type": "code",
   "execution_count": 11,
   "metadata": {},
   "outputs": [
    {
     "output_type": "execute_result",
     "data": {
      "text/plain": [
       "42961"
      ]
     },
     "metadata": {},
     "execution_count": 11
    }
   ],
   "source": [
    "s.found #if you just want to extract part of the search"
   ]
  },
  {
   "source": [
    "***\n",
    "### get_matches()\n",
    "\n",
    "This function returns all matches of the search, be it Articles or other things, in the form of a dictionary, with the URIs as keys and a tuple of a description and the json as the values, like {URI: (description, json)}. This makes it easier, to just take the dictionary keys and search for them in a separate call to the API."
   ],
   "cell_type": "markdown",
   "metadata": {}
  },
  {
   "cell_type": "code",
   "execution_count": 21,
   "metadata": {},
   "outputs": [
    {
     "output_type": "execute_result",
     "data": {
      "text/plain": [
       "{'http://api.zeit.de/content/3Fizoi5qwm86G2afGt00Pw': ('Korruptionsbekämpfer fordern Konsequenzen aus der Maskenaffäre',\n",
       "  {'subtitle': 'Nach dem Skandal um private Abgeordnetengeschäfte beim Kauf von Corona-Masken mehren sich Rufe nach härteren Sanktionsregeln. Die Unionsfraktion plant einen neuen Kodex.',\n",
       "   'uuid': '3Fizoi5qwm86G2afGt00Pw',\n",
       "   'title': 'Korruptionsbekämpfer fordern Konsequenzen aus der Maskenaffäre',\n",
       "   'href': 'http://www.zeit.de/politik/deutschland/2021-03/maskenaffaere-transparency-international-csu-kritik',\n",
       "   'release_date': '2021-03-09T06:15:03Z',\n",
       "   'uri': 'http://api.zeit.de/content/3Fizoi5qwm86G2afGt00Pw',\n",
       "   'snippet': ' International, Hartmut Bäumer, forderte den <em>Bundestag</em> auf, die Geschäftsordnung zu ergänzen, um bestimmte Formen von Lobbyismus zu bestrafen.\\nEbenso sollten auch die Fraktionen einen \"abgestuften',\n",
       "   'supertitle': 'Maskenaffäre',\n",
       "   'teaser_text': 'Nach dem Skandal um private Abgeordnetengeschäfte beim Kauf von Corona-Masken mehren sich Rufe nach härteren Sanktionsregeln. Die Unionsfraktion plant einen neuen Kodex.',\n",
       "   'teaser_title': 'Korruptionsbekämpfer fordern Konsequenzen aus der Maskenaffäre'}),\n",
       " 'http://api.zeit.de/content/1G6CjaHX5S01zd2LElisSb': ('Die Maskenaffären und ihre Konsequenzen',\n",
       "  {'subtitle': 'Nikolas Löbel und Georg Nüßlein sollen sich an Maskenverkäufen bereichert haben. Welche Konsequenzen drohen der CDU? Und: Der Prozess um den Fall George Floyd beginnt.',\n",
       "   'uuid': '1G6CjaHX5S01zd2LElisSb',\n",
       "   'title': 'Die Maskenaffären und ihre Konsequenzen',\n",
       "   'href': 'http://www.zeit.de/politik/2021-03/masken-affaere-union-korruption-nachrichtenpodcast',\n",
       "   'release_date': '2021-03-09T04:56:17Z',\n",
       "   'uri': 'http://api.zeit.de/content/1G6CjaHX5S01zd2LElisSb',\n",
       "   'snippet': '250.000 Euro – das ist in etwa die Summe, welche die Firma des <em>Bundestagsabgeordneten</em> Nikolas Löbel (CDU) an Provisionen für Geschäfte mit Corona-Schutzmasken erhalten haben soll. Nachdem er die',\n",
       "   'supertitle': 'Union',\n",
       "   'teaser_text': 'Nikolas Löbel und Georg Nüßlein sollen sich an Maskenverkäufen bereichert haben. Welche Konsequenzen drohen der Union? Und: Der Prozess um den Fall George Floyd beginnt.',\n",
       "   'teaser_title': 'Die Maskenaffären und ihre Konsequenzen'})}"
      ]
     },
     "metadata": {},
     "execution_count": 21
    }
   ],
   "source": [
    "s.get_matches()"
   ]
  },
  {
   "source": [
    "***\n",
    "### get_raw()\n",
    "\n",
    "This simply returns the raw Response, with which the Object was initiated. Useful, if you want to take a look at it again."
   ],
   "cell_type": "markdown",
   "metadata": {}
  },
  {
   "source": [
    "s.get_raw()"
   ],
   "cell_type": "code",
   "metadata": {},
   "execution_count": null,
   "outputs": []
  },
  {
   "source": [
    "***\n",
    "## Client\n",
    "\n",
    "The Client Class is a result of a call to *API.client()*, and is useful, if you want to get more information about your client and your connection to the API. \n",
    "\n",
    "### Attributes\n",
    "\n",
    "- *self.name*: your Name\n",
    "- *self.email*: your Email\n",
    "- *self.reset*: the reset time\n",
    "- *self.api_key*: this is your api key, do not show it to anybody\n",
    "- *self.requests*: the number of requests you made\n",
    "- *self.quota* = your quote, normally 10.000"
   ],
   "cell_type": "markdown",
   "metadata": {}
  },
  {
   "cell_type": "code",
   "execution_count": 25,
   "metadata": {},
   "outputs": [
    {
     "output_type": "execute_result",
     "data": {
      "text/plain": [
       "'Marten Walk'"
      ]
     },
     "metadata": {},
     "execution_count": 25
    }
   ],
   "source": [
    "cli = api.client()\n",
    "cli.name"
   ]
  },
  {
   "source": [
    "### requests_left()\n",
    "\n",
    "This method allows you to get the number of requests left with your client until the reset point. "
   ],
   "cell_type": "markdown",
   "metadata": {}
  },
  {
   "cell_type": "code",
   "execution_count": 26,
   "metadata": {},
   "outputs": [
    {
     "output_type": "execute_result",
     "data": {
      "text/plain": [
       "9989"
      ]
     },
     "metadata": {},
     "execution_count": 26
    }
   ],
   "source": [
    "cli.requests_left()"
   ]
  },
  {
   "source": [
    "### reset_time()\n",
    "\n",
    "The API returns the time in a complicated ISO8601 string, not very useful. This function converts it to a pandas Timestamp object."
   ],
   "cell_type": "markdown",
   "metadata": {}
  },
  {
   "cell_type": "code",
   "execution_count": 27,
   "metadata": {},
   "outputs": [
    {
     "output_type": "execute_result",
     "data": {
      "text/plain": [
       "Timestamp('2021-03-08 14:01:30')"
      ]
     },
     "metadata": {},
     "execution_count": 27
    }
   ],
   "source": [
    "cli.reset_time()"
   ]
  }
 ]
}