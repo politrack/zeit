{
 "metadata": {
  "language_info": {
   "codemirror_mode": {
    "name": "ipython",
    "version": 3
   },
   "file_extension": ".py",
   "mimetype": "text/x-python",
   "name": "python",
   "nbconvert_exporter": "python",
   "pygments_lexer": "ipython3",
   "version": "3.9.1-final"
  },
  "orig_nbformat": 2,
  "kernelspec": {
   "name": "python3",
   "display_name": "Python 3.9.1 64-bit ('venv': venv)",
   "metadata": {
    "interpreter": {
     "hash": "c665773a59edb6f74562ce97a879fb8635997cad54e302f3b3a6da032e210c4e"
    }
   }
  }
 },
 "nbformat": 4,
 "nbformat_minor": 2,
 "cells": [
  {
   "source": [
    "# Article\n",
    "\n",
    "The article Class is another central Class of the zeit-online package and allows us to extract a lot of metadate and useful information about an Article. Sadly, Zeit Online does not allow one to get the full Text, just  a teaser text and sometimes a snippet, but we can still get a lot of value from it."
   ],
   "cell_type": "markdown",
   "metadata": {}
  },
  {
   "cell_type": "code",
   "execution_count": 2,
   "metadata": {},
   "outputs": [],
   "source": [
    "import zeit \n",
    "api = zeit.API() # initialize the api\n",
    "api.set_token(\"api-key\") #set your key here"
   ]
  },
  {
   "source": [
    "---\n",
    "### Initilization\n",
    "\n",
    "Normally, you get an Article Class as a Return from a *API.get_article(...)* call, but you can also initiate it yourself, altough rather tedious. After Initilization, the Class has a bunch of different Attributes, for example you can get the Name, title etc.\n",
    "\n",
    "**Attributes**:\n",
    "\n",
    "- *self.title*: the title of the article\n",
    "- *self.href*: the link to the article on zeit.de\n",
    "- *self.text*: the teaser text\n",
    "- *self.supertitle*: the supertitle associated with the article\n",
    "- *self.id* : the UUID of the article\n",
    "- *self.uri*: the Unique Resource Identifier URI of the Article"
   ],
   "cell_type": "markdown",
   "metadata": {}
  },
  {
   "cell_type": "code",
   "execution_count": 4,
   "metadata": {},
   "outputs": [
    {
     "output_type": "execute_result",
     "data": {
      "text/plain": [
       " Search for 'Bundestag': 42945 results, limit: 1, matches : \n",
       " \n",
       "CSU-Politiker Nüßlein zieht sich aus der Politik zurück: http://api.zeit.de/content/7zJHkLefQuFQKQMgMx6WXW"
      ]
     },
     "metadata": {},
     "execution_count": 4
    }
   ],
   "source": [
    "#search for an article\n",
    "api.search_for(\"Bundestag\", limit=1)"
   ]
  },
  {
   "cell_type": "code",
   "execution_count": 6,
   "metadata": {},
   "outputs": [
    {
     "output_type": "stream",
     "name": "stdout",
     "text": [
      "Article with title 'CSU-Politiker Nüßlein zieht sich aus der Politik zurück' UUID: 7zJHkLefQuFQKQMgMx6WXW, URI: http://api.zeit.de/content/7zJHkLefQuFQKQMgMx6WXW            teaser_text: 'Nach Korruptionsvorwürfen kandidiert der Unionsfraktionsvize nicht wieder für den Bundestag. Er war in Masken-Geschäfte involviert. Von den Koalitionspartnern kam Kritik.'\n"
     ]
    }
   ],
   "source": [
    "article = api.get_article(\"7zJHkLefQuFQKQMgMx6WXW\") #get the article we just searched for\n",
    "print(article)"
   ]
  },
  {
   "source": [
    "---\n",
    "### get_keywords()\n",
    "\n",
    "this method allows you to extract the keywords from the article. It returns a dictionary of form { uri : name, uri : name ...} to make it easy to extract the keywords by using dictionary.keys() method\n"
   ],
   "cell_type": "markdown",
   "metadata": {}
  },
  {
   "cell_type": "code",
   "execution_count": 7,
   "metadata": {},
   "outputs": [
    {
     "output_type": "execute_result",
     "data": {
      "text/plain": [
       "{'http://api.zeit.de/keyword/csu': 'CSU',\n",
       " 'http://api.zeit.de/keyword/bundestag': 'Bundestag',\n",
       " 'http://api.zeit.de/keyword/bundestagswahl': 'Bundestagswahl',\n",
       " 'http://api.zeit.de/keyword/korruption': 'Korruption',\n",
       " 'http://api.zeit.de/keyword/staatsanwaltschaft': 'Staatsanwaltschaft'}"
      ]
     },
     "metadata": {},
     "execution_count": 7
    }
   ],
   "source": [
    "article.get_keywords() #extract the keywords from the article"
   ]
  },
  {
   "source": [
    "---\n",
    "### get_authors()\n",
    "\n",
    "get the authors who have written the article or contributed . This also returns a dictionary of form {uri:name} for the same reason as above"
   ],
   "cell_type": "markdown",
   "metadata": {}
  },
  {
   "cell_type": "code",
   "execution_count": 8,
   "metadata": {},
   "outputs": [
    {
     "output_type": "execute_result",
     "data": {
      "text/plain": [
       "{'http://api.zeit.de/author/Tilman-Steffen': 'Tilman Steffen'}"
      ]
     },
     "metadata": {},
     "execution_count": 8
    }
   ],
   "source": [
    "article.get_authors() #get the authors associated with the article"
   ]
  },
  {
   "source": [
    "***\n",
    "### get_date()\n",
    "\n",
    "The API returns as the release date a ISO time, and to make it easier to extract it, this function exists. It returns a simple Pandas Timestamp"
   ],
   "cell_type": "markdown",
   "metadata": {}
  },
  {
   "cell_type": "code",
   "execution_count": 9,
   "metadata": {},
   "outputs": [
    {
     "output_type": "execute_result",
     "data": {
      "text/plain": [
       "Timestamp('2021-03-05 16:04:47+0000', tz='UTC')"
      ]
     },
     "metadata": {},
     "execution_count": 9
    }
   ],
   "source": [
    "article.get_date()"
   ]
  }
 ]
}